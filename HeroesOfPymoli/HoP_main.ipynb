{
 "cells": [
  {
   "cell_type": "code",
   "execution_count": 65,
   "metadata": {},
   "outputs": [],
   "source": [
    "#import dependencies\n",
    "import pandas as pd\n",
    "from tabulate import tabulate\n",
    "\n",
    "from IPython.display import display, HTML"
   ]
  },
  {
   "cell_type": "code",
   "execution_count": 2,
   "metadata": {},
   "outputs": [
    {
     "name": "stdout",
     "output_type": "stream",
     "text": [
      "780\n"
     ]
    },
    {
     "data": {
      "text/html": [
       "<div>\n",
       "<style scoped>\n",
       "    .dataframe tbody tr th:only-of-type {\n",
       "        vertical-align: middle;\n",
       "    }\n",
       "\n",
       "    .dataframe tbody tr th {\n",
       "        vertical-align: top;\n",
       "    }\n",
       "\n",
       "    .dataframe thead th {\n",
       "        text-align: right;\n",
       "    }\n",
       "</style>\n",
       "<table border=\"1\" class=\"dataframe\">\n",
       "  <thead>\n",
       "    <tr style=\"text-align: right;\">\n",
       "      <th></th>\n",
       "      <th>Purchase ID</th>\n",
       "      <th>SN</th>\n",
       "      <th>Age</th>\n",
       "      <th>Gender</th>\n",
       "      <th>Item ID</th>\n",
       "      <th>Item Name</th>\n",
       "      <th>Price</th>\n",
       "    </tr>\n",
       "  </thead>\n",
       "  <tbody>\n",
       "    <tr>\n",
       "      <td>0</td>\n",
       "      <td>0</td>\n",
       "      <td>Lisim78</td>\n",
       "      <td>20</td>\n",
       "      <td>Male</td>\n",
       "      <td>108</td>\n",
       "      <td>Extraction, Quickblade Of Trembling Hands</td>\n",
       "      <td>3.53</td>\n",
       "    </tr>\n",
       "    <tr>\n",
       "      <td>1</td>\n",
       "      <td>1</td>\n",
       "      <td>Lisovynya38</td>\n",
       "      <td>40</td>\n",
       "      <td>Male</td>\n",
       "      <td>143</td>\n",
       "      <td>Frenzied Scimitar</td>\n",
       "      <td>1.56</td>\n",
       "    </tr>\n",
       "    <tr>\n",
       "      <td>2</td>\n",
       "      <td>2</td>\n",
       "      <td>Ithergue48</td>\n",
       "      <td>24</td>\n",
       "      <td>Male</td>\n",
       "      <td>92</td>\n",
       "      <td>Final Critic</td>\n",
       "      <td>4.88</td>\n",
       "    </tr>\n",
       "    <tr>\n",
       "      <td>3</td>\n",
       "      <td>3</td>\n",
       "      <td>Chamassasya86</td>\n",
       "      <td>24</td>\n",
       "      <td>Male</td>\n",
       "      <td>100</td>\n",
       "      <td>Blindscythe</td>\n",
       "      <td>3.27</td>\n",
       "    </tr>\n",
       "    <tr>\n",
       "      <td>4</td>\n",
       "      <td>4</td>\n",
       "      <td>Iskosia90</td>\n",
       "      <td>23</td>\n",
       "      <td>Male</td>\n",
       "      <td>131</td>\n",
       "      <td>Fury</td>\n",
       "      <td>1.44</td>\n",
       "    </tr>\n",
       "    <tr>\n",
       "      <td>5</td>\n",
       "      <td>5</td>\n",
       "      <td>Yalae81</td>\n",
       "      <td>22</td>\n",
       "      <td>Male</td>\n",
       "      <td>81</td>\n",
       "      <td>Dreamkiss</td>\n",
       "      <td>3.61</td>\n",
       "    </tr>\n",
       "    <tr>\n",
       "      <td>6</td>\n",
       "      <td>6</td>\n",
       "      <td>Itheria73</td>\n",
       "      <td>36</td>\n",
       "      <td>Male</td>\n",
       "      <td>169</td>\n",
       "      <td>Interrogator, Blood Blade of the Queen</td>\n",
       "      <td>2.18</td>\n",
       "    </tr>\n",
       "    <tr>\n",
       "      <td>7</td>\n",
       "      <td>7</td>\n",
       "      <td>Iskjaskst81</td>\n",
       "      <td>20</td>\n",
       "      <td>Male</td>\n",
       "      <td>162</td>\n",
       "      <td>Abyssal Shard</td>\n",
       "      <td>2.67</td>\n",
       "    </tr>\n",
       "    <tr>\n",
       "      <td>8</td>\n",
       "      <td>8</td>\n",
       "      <td>Undjask33</td>\n",
       "      <td>22</td>\n",
       "      <td>Male</td>\n",
       "      <td>21</td>\n",
       "      <td>Souleater</td>\n",
       "      <td>1.10</td>\n",
       "    </tr>\n",
       "    <tr>\n",
       "      <td>9</td>\n",
       "      <td>9</td>\n",
       "      <td>Chanosian48</td>\n",
       "      <td>35</td>\n",
       "      <td>Other / Non-Disclosed</td>\n",
       "      <td>136</td>\n",
       "      <td>Ghastly Adamantite Protector</td>\n",
       "      <td>3.58</td>\n",
       "    </tr>\n",
       "  </tbody>\n",
       "</table>\n",
       "</div>"
      ],
      "text/plain": [
       "   Purchase ID             SN  Age                 Gender  Item ID  \\\n",
       "0            0        Lisim78   20                   Male      108   \n",
       "1            1    Lisovynya38   40                   Male      143   \n",
       "2            2     Ithergue48   24                   Male       92   \n",
       "3            3  Chamassasya86   24                   Male      100   \n",
       "4            4      Iskosia90   23                   Male      131   \n",
       "5            5        Yalae81   22                   Male       81   \n",
       "6            6      Itheria73   36                   Male      169   \n",
       "7            7    Iskjaskst81   20                   Male      162   \n",
       "8            8      Undjask33   22                   Male       21   \n",
       "9            9    Chanosian48   35  Other / Non-Disclosed      136   \n",
       "\n",
       "                                   Item Name  Price  \n",
       "0  Extraction, Quickblade Of Trembling Hands   3.53  \n",
       "1                          Frenzied Scimitar   1.56  \n",
       "2                               Final Critic   4.88  \n",
       "3                                Blindscythe   3.27  \n",
       "4                                       Fury   1.44  \n",
       "5                                  Dreamkiss   3.61  \n",
       "6     Interrogator, Blood Blade of the Queen   2.18  \n",
       "7                              Abyssal Shard   2.67  \n",
       "8                                  Souleater   1.10  \n",
       "9               Ghastly Adamantite Protector   3.58  "
      ]
     },
     "execution_count": 2,
     "metadata": {},
     "output_type": "execute_result"
    }
   ],
   "source": [
    "# I moved the file to the directoy I was working in for ease, declare file name\n",
    "filename = \"HeroesOfPymoli_data.csv\"\n",
    "\n",
    "#read file in pd dataframe\n",
    "df = pd.read_csv(filename)\n",
    "print(len(df))\n",
    "df.head(10)"
   ]
  },
  {
   "cell_type": "code",
   "execution_count": 3,
   "metadata": {},
   "outputs": [
    {
     "name": "stdout",
     "output_type": "stream",
     "text": [
      "Number of Unique SN: 576\n",
      "Number of Unique Items: 179\n",
      "Does Unique Item IDs match Unique Item Names? True\n"
     ]
    }
   ],
   "source": [
    "#declare the number of unique players\n",
    "number_of_players = len(df.SN.value_counts())\n",
    "\n",
    "#declare the number of unique items\n",
    "number_of_items = len(df[\"Item ID\"].value_counts())\n",
    "\n",
    "#verify that items by \"Item ID\" match the number of items by \"Item Name\"\n",
    "number_of_items_verification = len(df[\"Item Name\"].value_counts())\n",
    "\n",
    "print(f'Number of Unique SN: {number_of_players}')\n",
    "print(f'Number of Unique Items: {number_of_items}')\n",
    "print(f'Does Unique Item IDs match Unique Item Names? {number_of_items == number_of_items_verification}')"
   ]
  },
  {
   "cell_type": "code",
   "execution_count": 66,
   "metadata": {},
   "outputs": [
    {
     "name": "stdout",
     "output_type": "stream",
     "text": [
      "Total purchases: 780\n",
      "Average Item Price: $3.05\n",
      "Total Revenue: $2,379.77\n"
     ]
    },
    {
     "data": {
      "text/html": [
       "<table border=\"1\" class=\"dataframe\">\n",
       "  <thead>\n",
       "    <tr style=\"text-align: right;\">\n",
       "      <th></th>\n",
       "      <th>Number of Unique Items</th>\n",
       "      <th>Average Price</th>\n",
       "      <th>Number of Purchases</th>\n",
       "      <th>Total Revenue</th>\n",
       "    </tr>\n",
       "  </thead>\n",
       "  <tbody>\n",
       "    <tr>\n",
       "      <th>0</th>\n",
       "      <td>179</td>\n",
       "      <td>$3.05</td>\n",
       "      <td>780</td>\n",
       "      <td>$2,379.77</td>\n",
       "    </tr>\n",
       "  </tbody>\n",
       "</table>"
      ],
      "text/plain": [
       "<IPython.core.display.HTML object>"
      ]
     },
     "metadata": {},
     "output_type": "display_data"
    }
   ],
   "source": [
    "#Count the number of purchases using the length of the df\n",
    "total_purchases = len(df)\n",
    "print(f'Total purchases: {total_purchases}')\n",
    "\n",
    "#Find the average item price using the .mean() function and Price column\n",
    "avg_item_px = \"${0:,.2f}\".format(df.Price.mean())\n",
    "print(f'Average Item Price: {avg_item_px}')\n",
    "\n",
    "#find the total revenue using the .sum() function and Price column\n",
    "total_rev = \"${0:,.2f}\".format(df.Price.sum())\n",
    "print(f'Total Revenue: {total_rev}')\n",
    "\n",
    "#Aggregate the data\n",
    "purchase_data = {\"Number of Unique Items\": number_of_items,\n",
    "                 \"Average Price\": avg_item_px,\n",
    "                 \"Number of Purchases\": total_purchases,\n",
    "                 \"Total Revenue\": total_rev}\n",
    "\n",
    "#Pass data into DataFrame function and create a index @ 0\n",
    "purchase_df = pd.DataFrame(purchase_data, index=[0])\n",
    "#print(tabulate(purchase_df, headers='keys', tablefmt='psql'))\n",
    "display(HTML(purchase_df.to_html()))"
   ]
  },
  {
   "cell_type": "code",
   "execution_count": 21,
   "metadata": {},
   "outputs": [
    {
     "data": {
      "text/html": [
       "<div>\n",
       "<style scoped>\n",
       "    .dataframe tbody tr th:only-of-type {\n",
       "        vertical-align: middle;\n",
       "    }\n",
       "\n",
       "    .dataframe tbody tr th {\n",
       "        vertical-align: top;\n",
       "    }\n",
       "\n",
       "    .dataframe thead th {\n",
       "        text-align: right;\n",
       "    }\n",
       "</style>\n",
       "<table border=\"1\" class=\"dataframe\">\n",
       "  <thead>\n",
       "    <tr style=\"text-align: right;\">\n",
       "      <th></th>\n",
       "      <th>Total Count</th>\n",
       "      <th>Percentage of Players</th>\n",
       "    </tr>\n",
       "    <tr>\n",
       "      <th>Gender</th>\n",
       "      <th></th>\n",
       "      <th></th>\n",
       "    </tr>\n",
       "  </thead>\n",
       "  <tbody>\n",
       "    <tr>\n",
       "      <td>Male</td>\n",
       "      <td>484</td>\n",
       "      <td>84.03%</td>\n",
       "    </tr>\n",
       "    <tr>\n",
       "      <td>Female</td>\n",
       "      <td>81</td>\n",
       "      <td>14.06%</td>\n",
       "    </tr>\n",
       "    <tr>\n",
       "      <td>Other / Non-Disclosed</td>\n",
       "      <td>11</td>\n",
       "      <td>1.91%</td>\n",
       "    </tr>\n",
       "  </tbody>\n",
       "</table>\n",
       "</div>"
      ],
      "text/plain": [
       "                       Total Count Percentage of Players\n",
       "Gender                                                  \n",
       "Male                           484                84.03%\n",
       "Female                          81                14.06%\n",
       "Other / Non-Disclosed           11                 1.91%"
      ]
     },
     "execution_count": 21,
     "metadata": {},
     "output_type": "execute_result"
    }
   ],
   "source": [
    "#Find the number of players by gender, while dropping duplicate entries for the multiple purchases by a single 'SN'\n",
    "males = len(df.drop_duplicates(\"SN\").loc[(df[\"Gender\"] == \"Male\")])\n",
    "females = len(df.drop_duplicates(\"SN\").loc[(df[\"Gender\"] == \"Female\")])\n",
    "others = len(df.drop_duplicates(\"SN\").loc[(df[\"Gender\"] == \"Other / Non-Disclosed\")])\n",
    "\n",
    "#Calculate the % of player base \n",
    "prcnt_males = \"{0:.2f}%\".format(males / number_of_players*100)\n",
    "prcnt_females = \"{0:.2f}%\".format(females / number_of_players*100)\n",
    "prcnt_others = \"{0:.2f}%\".format(others / number_of_players*100)\n",
    "\n",
    "#Aggregate the data\n",
    "player_data = {'Gender': (\"Male\", \"Female\", \"Other / Non-Disclosed\"),\n",
    "               'Total Count' : (males, females, others), \n",
    "               'Percentage of Players' : (prcnt_males, prcnt_females, prcnt_others),\n",
    "               } \n",
    "\n",
    "#Pass data into DataFrame function and create a index using the 'Gender' column\n",
    "player_df = pd.DataFrame(player_data).set_index('Gender')\n",
    "player_df"
   ]
  },
  {
   "cell_type": "code",
   "execution_count": null,
   "metadata": {},
   "outputs": [],
   "source": []
  },
  {
   "cell_type": "code",
   "execution_count": 22,
   "metadata": {},
   "outputs": [],
   "source": [
    "#Create a new df grouped by \"Gender\"\n",
    "new_df = df.groupby(\"Gender\")"
   ]
  },
  {
   "cell_type": "code",
   "execution_count": 23,
   "metadata": {},
   "outputs": [],
   "source": [
    "#Find the average total purchase per person (NOTE: you MUST use the UNIQUE number of players in that gender class)\n",
    "#Format the values as well\n",
    "\n",
    "female_avg_total = \"${0:.2f}\".format(new_df[\"Price\"].sum()[0] / females)\n",
    "male_avg_total = \"${0:.2f}\".format(new_df[\"Price\"].sum()[1] / males)\n",
    "others_avg_total = \"${0:.2f}\".format(new_df[\"Price\"].sum()[2] / others)"
   ]
  },
  {
   "cell_type": "code",
   "execution_count": 54,
   "metadata": {},
   "outputs": [
    {
     "name": "stdout",
     "output_type": "stream",
     "text": [
      "+-----------------------+------------------+--------------------------+------------------------+-----------------------------+\n",
      "| Gender                |   Purchase Count | Average Purchase Price   | Total Purchase Value   | Avg Total Purchase Person   |\n",
      "|-----------------------+------------------+--------------------------+------------------------+-----------------------------|\n",
      "| Female                |              113 | $3.20                    | $361.94                | $4.47                       |\n",
      "| Male                  |              652 | $3.02                    | $1,967.64              | $4.07                       |\n",
      "| Other / Non-Disclosed |               15 | $3.35                    | $50.19                 | $4.56                       |\n",
      "+-----------------------+------------------+--------------------------+------------------------+-----------------------------+\n"
     ]
    }
   ],
   "source": [
    "#Aggregate the data, use count(), mean() and sum() \n",
    "# to find the purchase count, avg purchase price and total purchase value by gender class\n",
    "\n",
    "d = {'Purchase Count' : new_df[\"Purchase ID\"].count(), \n",
    "     'Average Purchase Price' : new_df[\"Price\"].mean(),\n",
    "     'Total Purchase Value' : new_df[\"Price\"].sum(),\n",
    "     'Avg Total Purchase Person': [female_avg_total, male_avg_total, others_avg_total]} \n",
    "  \n",
    "#Pass data into DataFrame function (will use Gender as index by default)\n",
    "purchasing_df = pd.DataFrame(d) \n",
    "\n",
    "# format the currency columns, must use the map( format ) function for df columns\n",
    "for column in ['Average Purchase Price', 'Total Purchase Value']:\n",
    "    purchasing_df[column] = purchasing_df[column].map(\"${:,.2f}\".format)\n",
    "\n",
    "# print the data \n",
    "print(tabulate(purchasing_df, headers='keys', tablefmt='psql'))"
   ]
  },
  {
   "cell_type": "code",
   "execution_count": null,
   "metadata": {},
   "outputs": [],
   "source": []
  },
  {
   "cell_type": "code",
   "execution_count": 27,
   "metadata": {},
   "outputs": [],
   "source": [
    "# Bins are 0, 59.9, 69.9, 79.9, 89.9, 100.   \n",
    "bins = [0, 9, 14, 19, 24, 29, 34, 39, 100]\n",
    "\n",
    "# Create the names for the four bins\n",
    "group_names = [\"<10\", \"10-14\", \"15-19\", \"20-24\", \"25-29\", \"30-34\", \"35-39\", \"40+\"]\n",
    "\n",
    "#Create a new df column and cut the rows by the bin values\n",
    "df[\"Age Group\"] = pd.cut(df[\"Age\"], bins, labels=group_names, include_lowest=True)\n",
    "\n",
    "#Create a new df grouping by \"Age Group\" and being sure not to use duplicate entries for the same \"SN\"\n",
    "age_df = df.drop_duplicates(\"SN\").groupby(\"Age Group\")"
   ]
  },
  {
   "cell_type": "code",
   "execution_count": 29,
   "metadata": {},
   "outputs": [
    {
     "data": {
      "text/html": [
       "<div>\n",
       "<style scoped>\n",
       "    .dataframe tbody tr th:only-of-type {\n",
       "        vertical-align: middle;\n",
       "    }\n",
       "\n",
       "    .dataframe tbody tr th {\n",
       "        vertical-align: top;\n",
       "    }\n",
       "\n",
       "    .dataframe thead th {\n",
       "        text-align: right;\n",
       "    }\n",
       "</style>\n",
       "<table border=\"1\" class=\"dataframe\">\n",
       "  <thead>\n",
       "    <tr style=\"text-align: right;\">\n",
       "      <th></th>\n",
       "      <th>Total Count</th>\n",
       "      <th>Percentage of Players</th>\n",
       "    </tr>\n",
       "    <tr>\n",
       "      <th>Age Group</th>\n",
       "      <th></th>\n",
       "      <th></th>\n",
       "    </tr>\n",
       "  </thead>\n",
       "  <tbody>\n",
       "    <tr>\n",
       "      <td>&lt;10</td>\n",
       "      <td>17</td>\n",
       "      <td>2.95%</td>\n",
       "    </tr>\n",
       "    <tr>\n",
       "      <td>10-14</td>\n",
       "      <td>22</td>\n",
       "      <td>3.82%</td>\n",
       "    </tr>\n",
       "    <tr>\n",
       "      <td>15-19</td>\n",
       "      <td>107</td>\n",
       "      <td>18.58%</td>\n",
       "    </tr>\n",
       "    <tr>\n",
       "      <td>20-24</td>\n",
       "      <td>258</td>\n",
       "      <td>44.79%</td>\n",
       "    </tr>\n",
       "    <tr>\n",
       "      <td>25-29</td>\n",
       "      <td>77</td>\n",
       "      <td>13.37%</td>\n",
       "    </tr>\n",
       "    <tr>\n",
       "      <td>30-34</td>\n",
       "      <td>52</td>\n",
       "      <td>9.03%</td>\n",
       "    </tr>\n",
       "    <tr>\n",
       "      <td>35-39</td>\n",
       "      <td>31</td>\n",
       "      <td>5.38%</td>\n",
       "    </tr>\n",
       "    <tr>\n",
       "      <td>40+</td>\n",
       "      <td>12</td>\n",
       "      <td>2.08%</td>\n",
       "    </tr>\n",
       "  </tbody>\n",
       "</table>\n",
       "</div>"
      ],
      "text/plain": [
       "           Total Count Percentage of Players\n",
       "Age Group                                   \n",
       "<10                 17                 2.95%\n",
       "10-14               22                 3.82%\n",
       "15-19              107                18.58%\n",
       "20-24              258                44.79%\n",
       "25-29               77                13.37%\n",
       "30-34               52                 9.03%\n",
       "35-39               31                 5.38%\n",
       "40+                 12                 2.08%"
      ]
     },
     "execution_count": 29,
     "metadata": {},
     "output_type": "execute_result"
    }
   ],
   "source": [
    "#Aggregate the data\n",
    "data = {'Total Count' : age_df[\"Purchase ID\"].count(),\n",
    "        'Percentage of Players': age_df[\"Purchase ID\"].count() / number_of_players * 100}\n",
    "\n",
    "#Pass data into DataFrame function (will use Age Group as index by default)\n",
    "age_sum_df = pd.DataFrame(data)\n",
    "\n",
    "#format the % column\n",
    "age_sum_df['Percentage of Players'] = age_sum_df['Percentage of Players'].map(\"{:,.2f}%\".format)\n",
    "\n",
    "#Print df\n",
    "age_sum_df"
   ]
  },
  {
   "cell_type": "code",
   "execution_count": null,
   "metadata": {},
   "outputs": [],
   "source": []
  },
  {
   "cell_type": "code",
   "execution_count": 31,
   "metadata": {},
   "outputs": [],
   "source": [
    "#Create a new df grouping by Age Group\n",
    "age_purchasing_df = df.groupby(\"Age Group\")"
   ]
  },
  {
   "cell_type": "code",
   "execution_count": 32,
   "metadata": {},
   "outputs": [],
   "source": [
    "#Assign value for total purchase count using count()\n",
    "purchasing_count = age_purchasing_df[\"SN\"].count()\n",
    "\n",
    "\n",
    "#Assign value for avg purchase price using mean()\n",
    "avg_purchase_px = age_purchasing_df[\"Price\"].mean()\n",
    "\n",
    "\n",
    "#Assign value for total purchase value using sum()\n",
    "total_purchase_val = age_purchasing_df[\"Price\"].sum()\n",
    "\n",
    "\n",
    "#Assign total purchase value per person\n",
    "avg_total_purchase_person = age_purchasing_df[\"Price\"].sum() / age_df[\"Price\"].count()"
   ]
  },
  {
   "cell_type": "code",
   "execution_count": 53,
   "metadata": {},
   "outputs": [
    {
     "name": "stdout",
     "output_type": "stream",
     "text": [
      "+-------------+------------------+--------------------------+------------------------+---------------------------------+\n",
      "| Age Group   |   Purchase Count | Average Purchase Price   | Total Purchase Value   | Avg Total Purchase per Person   |\n",
      "|-------------+------------------+--------------------------+------------------------+---------------------------------|\n",
      "| <10         |               23 | $3.35                    | $77.13                 | $4.54                           |\n",
      "| 10-14       |               28 | $2.96                    | $82.78                 | $3.76                           |\n",
      "| 15-19       |              136 | $3.04                    | $412.89                | $3.86                           |\n",
      "| 20-24       |              365 | $3.05                    | $1,114.06              | $4.32                           |\n",
      "| 25-29       |              101 | $2.90                    | $293.00                | $3.81                           |\n",
      "| 30-34       |               73 | $2.93                    | $214.00                | $4.12                           |\n",
      "| 35-39       |               41 | $3.60                    | $147.67                | $4.76                           |\n",
      "| 40+         |               13 | $2.94                    | $38.24                 | $3.19                           |\n",
      "+-------------+------------------+--------------------------+------------------------+---------------------------------+\n"
     ]
    }
   ],
   "source": [
    "#Aggregate data\n",
    "purchasing_data = {'Purchase Count' : purchasing_count,\n",
    "                   'Average Purchase Price': avg_purchase_px,\n",
    "                   'Total Purchase Value': total_purchase_val,\n",
    "                   'Avg Total Purchase per Person': avg_total_purchase_person}\n",
    "\n",
    "\n",
    "#Pass data into DataFrame function (will use Age Group as index by default)\n",
    "purchasing_sum_df = pd.DataFrame(purchasing_data)\n",
    "\n",
    "\n",
    "#format the $ column\n",
    "for column in ['Average Purchase Price', 'Total Purchase Value', 'Avg Total Purchase per Person']:\n",
    "    purchasing_sum_df[column] = purchasing_sum_df[column].map(\"${:,.2f}\".format)\n",
    "\n",
    "    \n",
    "#print the df\n",
    "print(tabulate(purchasing_sum_df, headers='keys', tablefmt='psql'))"
   ]
  },
  {
   "cell_type": "code",
   "execution_count": null,
   "metadata": {},
   "outputs": [],
   "source": []
  },
  {
   "cell_type": "code",
   "execution_count": null,
   "metadata": {},
   "outputs": [],
   "source": []
  },
  {
   "cell_type": "code",
   "execution_count": 57,
   "metadata": {},
   "outputs": [],
   "source": [
    "#Create a new df grouped by 'SN' \n",
    "user_df =df.groupby('SN')"
   ]
  },
  {
   "cell_type": "code",
   "execution_count": 58,
   "metadata": {},
   "outputs": [],
   "source": [
    "#assign values for total, count and avg purchases\n",
    "player_purchases_total = user_df[\"Price\"].sum()\n",
    "player_purchases_count = user_df[\"Price\"].count()\n",
    "player_purchases_avg = user_df[\"Price\"].mean()"
   ]
  },
  {
   "cell_type": "code",
   "execution_count": 61,
   "metadata": {},
   "outputs": [],
   "source": [
    "#aggregate data\n",
    "player_purchases_data = {'Purchase Count': player_purchases_count,\n",
    "                         'Average Purchase Price': player_purchases_avg,\n",
    "                         'Total Purchase Value': player_purchases_total}\n",
    "\n",
    "#Pass data into DataFrame function (will use SN as index by default)\n",
    "top_spenders = pd.DataFrame(player_purchases_data)"
   ]
  },
  {
   "cell_type": "code",
   "execution_count": 62,
   "metadata": {},
   "outputs": [
    {
     "name": "stdout",
     "output_type": "stream",
     "text": [
      "+-------------+------------------+--------------------------+------------------------+\n",
      "| SN          |   Purchase Count | Average Purchase Price   | Total Purchase Value   |\n",
      "|-------------+------------------+--------------------------+------------------------|\n",
      "| Lisosia93   |                5 | $3.79                    | $18.96                 |\n",
      "| Idastidru52 |                4 | $3.86                    | $15.45                 |\n",
      "| Chamjask73  |                3 | $4.61                    | $13.83                 |\n",
      "| Iral74      |                4 | $3.40                    | $13.62                 |\n",
      "| Iskadarya95 |                3 | $4.37                    | $13.10                 |\n",
      "+-------------+------------------+--------------------------+------------------------+\n"
     ]
    }
   ],
   "source": [
    "#sort the data\n",
    "top_spenders = top_spenders.sort_values(\"Total Purchase Value\", ascending=False)\n",
    "\n",
    "#format the $ columns \n",
    "for column in ['Average Purchase Price', 'Total Purchase Value']:\n",
    "    top_spenders[column] = top_spenders[column].map(\"${:,.2f}\".format)\n",
    "    \n",
    "#print the df\n",
    "print(tabulate(top_spenders.head(), headers='keys', tablefmt='psql'))"
   ]
  },
  {
   "cell_type": "code",
   "execution_count": null,
   "metadata": {},
   "outputs": [],
   "source": []
  },
  {
   "cell_type": "code",
   "execution_count": null,
   "metadata": {},
   "outputs": [],
   "source": []
  },
  {
   "cell_type": "code",
   "execution_count": null,
   "metadata": {},
   "outputs": [],
   "source": []
  },
  {
   "cell_type": "code",
   "execution_count": 44,
   "metadata": {},
   "outputs": [],
   "source": [
    "#Create a new df grouped by Item ID and Item Name\n",
    "item_df =df.groupby(['Item ID','Item Name'])\n",
    "\n",
    "\n",
    "#assign values for total, count and price\n",
    "item_purchase_count = item_df[\"Item Name\"].count()\n",
    "item_price = item_df[\"Price\"].mean()\n",
    "item_tot_purchase_val = item_df[\"Price\"].sum()"
   ]
  },
  {
   "cell_type": "code",
   "execution_count": 63,
   "metadata": {},
   "outputs": [
    {
     "name": "stdout",
     "output_type": "stream",
     "text": [
      "+-------------------------------------------------------+------------------+--------------+------------------------+\n",
      "|                                                       |   Purchase Count | Item Price   | Total Purchase Value   |\n",
      "|-------------------------------------------------------+------------------+--------------+------------------------|\n",
      "| (92, 'Final Critic')                                  |               13 | $4.61        | $59.99                 |\n",
      "| (178, 'Oathbreaker, Last Hope of the Breaking Storm') |               12 | $4.23        | $50.76                 |\n",
      "| (145, 'Fiery Glass Crusader')                         |                9 | $4.58        | $41.22                 |\n",
      "| (132, 'Persuasion')                                   |                9 | $3.22        | $28.99                 |\n",
      "| (108, 'Extraction, Quickblade Of Trembling Hands')    |                9 | $3.53        | $31.77                 |\n",
      "+-------------------------------------------------------+------------------+--------------+------------------------+\n"
     ]
    }
   ],
   "source": [
    "#aggregate the data\n",
    "item_purchases_data = {'Purchase Count': item_purchase_count,\n",
    "                         'Item Price': item_price,\n",
    "                         'Total Purchase Value': item_tot_purchase_val}\n",
    "\n",
    "#Pass data into DataFrame function (will use Item ID and Item Name as index by default)\n",
    "top_pop_items = pd.DataFrame(item_purchases_data)\n",
    "\n",
    "#Sort the df by purchase count and descending values\n",
    "top_pop_items = top_pop_items.sort_values(\"Purchase Count\", ascending=False)\n",
    "\n",
    "#format the columns\n",
    "for column in ['Item Price', 'Total Purchase Value']:\n",
    "    top_pop_items[column] = top_pop_items[column].map(\"${:,.2f}\".format)\n",
    "    \n",
    "#print the df\n",
    "print(tabulate(top_pop_items.head(), headers='keys', tablefmt='psql'))"
   ]
  },
  {
   "cell_type": "code",
   "execution_count": null,
   "metadata": {},
   "outputs": [],
   "source": []
  },
  {
   "cell_type": "code",
   "execution_count": 64,
   "metadata": {},
   "outputs": [
    {
     "name": "stdout",
     "output_type": "stream",
     "text": [
      "+-------------------------------------------------------+------------------+--------------+------------------------+\n",
      "|                                                       |   Purchase Count | Item Price   | Total Purchase Value   |\n",
      "|-------------------------------------------------------+------------------+--------------+------------------------|\n",
      "| (92, 'Final Critic')                                  |               13 | $4.61        | $59.99                 |\n",
      "| (178, 'Oathbreaker, Last Hope of the Breaking Storm') |               12 | $4.23        | $50.76                 |\n",
      "| (82, 'Nirvana')                                       |                9 | $4.90        | $44.10                 |\n",
      "| (145, 'Fiery Glass Crusader')                         |                9 | $4.58        | $41.22                 |\n",
      "| (103, 'Singed Scalpel')                               |                8 | $4.35        | $34.80                 |\n",
      "+-------------------------------------------------------+------------------+--------------+------------------------+\n"
     ]
    }
   ],
   "source": [
    "#Create a new DF\n",
    "top_profit_items = pd.DataFrame(item_purchases_data)\n",
    "\n",
    "#sort the df by \"Total Purchase Value\" descending values\n",
    "top_profit_items = top_profit_items.sort_values(\"Total Purchase Value\", ascending=False)\n",
    "\n",
    "#format the columns\n",
    "for column in ['Item Price', 'Total Purchase Value']:\n",
    "    top_profit_items[column] = top_profit_items[column].map(\"${:,.2f}\".format)\n",
    "\n",
    "#print the df\n",
    "print(tabulate(top_profit_items.head(), headers='keys', tablefmt='psql'))"
   ]
  },
  {
   "cell_type": "code",
   "execution_count": null,
   "metadata": {},
   "outputs": [],
   "source": [
    "\n"
   ]
  },
  {
   "cell_type": "code",
   "execution_count": null,
   "metadata": {},
   "outputs": [],
   "source": []
  },
  {
   "cell_type": "code",
   "execution_count": null,
   "metadata": {},
   "outputs": [],
   "source": []
  }
 ],
 "metadata": {
  "kernelspec": {
   "display_name": "Python 3",
   "language": "python",
   "name": "python3"
  },
  "language_info": {
   "codemirror_mode": {
    "name": "ipython",
    "version": 3
   },
   "file_extension": ".py",
   "mimetype": "text/x-python",
   "name": "python",
   "nbconvert_exporter": "python",
   "pygments_lexer": "ipython3",
   "version": "3.7.4"
  }
 },
 "nbformat": 4,
 "nbformat_minor": 2
}
